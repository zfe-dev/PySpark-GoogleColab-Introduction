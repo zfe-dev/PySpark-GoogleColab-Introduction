{
  "nbformat": 4,
  "nbformat_minor": 0,
  "metadata": {
    "colab": {
      "provenance": [],
      "authorship_tag": "ABX9TyMiKP/Hx+heMMUSa1YHUUxv",
      "include_colab_link": true
    },
    "kernelspec": {
      "name": "python3",
      "display_name": "Python 3"
    },
    "language_info": {
      "name": "python"
    }
  },
  "cells": [
    {
      "cell_type": "markdown",
      "metadata": {
        "id": "view-in-github",
        "colab_type": "text"
      },
      "source": [
        "<a href=\"https://colab.research.google.com/github/zfe-dev/PySpark-GoogleColab-Introduction/blob/main/PySpark_Introduction.ipynb\" target=\"_parent\"><img src=\"https://colab.research.google.com/assets/colab-badge.svg\" alt=\"Open In Colab\"/></a>"
      ]
    },
    {
      "cell_type": "markdown",
      "source": [
        "#1: Connect to Google Drive"
      ],
      "metadata": {
        "id": "Ik8lJJ0T-0Tu"
      }
    },
    {
      "cell_type": "code",
      "execution_count": 1,
      "metadata": {
        "colab": {
          "base_uri": "https://localhost:8080/"
        },
        "id": "PSkzUx6y4zwH",
        "outputId": "3710d880-1e80-47f9-8099-43dffbaee05d"
      },
      "outputs": [
        {
          "output_type": "stream",
          "name": "stdout",
          "text": [
            "Mounted at /content/drive\n",
            "\u001b[0m\u001b[01;34mdrive\u001b[0m/  \u001b[01;34msample_data\u001b[0m/\n"
          ]
        }
      ],
      "source": [
        "from google.colab import drive\n",
        "drive.mount('/content/drive')\n",
        "%ls"
      ]
    },
    {
      "cell_type": "markdown",
      "source": [
        "##1.1: If not in the good folder, moves to it"
      ],
      "metadata": {
        "id": "gsoyAepFCDCZ"
      }
    },
    {
      "cell_type": "code",
      "source": [
        "%cd /content/drive/MyDrive/Github/PySpark_Introduction/\n"
      ],
      "metadata": {
        "id": "kZBbzbWyCBuJ",
        "colab": {
          "base_uri": "https://localhost:8080/"
        },
        "outputId": "c6474775-1653-4aa1-8a07-cc867db86290"
      },
      "execution_count": 11,
      "outputs": [
        {
          "output_type": "stream",
          "name": "stdout",
          "text": [
            "/content/drive/MyDrive/Github/PySpark_Introduction\n"
          ]
        }
      ]
    },
    {
      "cell_type": "markdown",
      "source": [
        "#2: Import and setup PySpark"
      ],
      "metadata": {
        "id": "1oGP-NAbCVml"
      }
    },
    {
      "cell_type": "code",
      "source": [
        "!pip install pyspark findspark"
      ],
      "metadata": {
        "colab": {
          "base_uri": "https://localhost:8080/"
        },
        "id": "k4aFM-c1ChN8",
        "outputId": "98fae7a7-7175-41d2-8636-9c9d161abeb2"
      },
      "execution_count": 12,
      "outputs": [
        {
          "output_type": "stream",
          "name": "stdout",
          "text": [
            "Requirement already satisfied: pyspark in /usr/local/lib/python3.10/dist-packages (3.5.1)\n",
            "Requirement already satisfied: findspark in /usr/local/lib/python3.10/dist-packages (2.0.1)\n",
            "Requirement already satisfied: py4j==0.10.9.7 in /usr/local/lib/python3.10/dist-packages (from pyspark) (0.10.9.7)\n"
          ]
        }
      ]
    },
    {
      "cell_type": "code",
      "source": [
        "import findspark\n",
        "findspark.init()"
      ],
      "metadata": {
        "id": "wNs3mtkACix8"
      },
      "execution_count": 4,
      "outputs": []
    },
    {
      "cell_type": "markdown",
      "source": [
        "#3: Name the project and let's go!"
      ],
      "metadata": {
        "id": "EXlE2OecC_Ba"
      }
    },
    {
      "cell_type": "code",
      "source": [
        "from pyspark.sql import SparkSession\n",
        "\n",
        "spark = SparkSession.builder.appName(\"PySpark-Introduction\").getOrCreate()"
      ],
      "metadata": {
        "id": "ovMXYDHOC_Ub"
      },
      "execution_count": 5,
      "outputs": []
    },
    {
      "cell_type": "markdown",
      "source": [
        "#4: Read the CSV file available in the driver folder"
      ],
      "metadata": {
        "id": "NOX2wnBRAbG8"
      }
    },
    {
      "cell_type": "code",
      "source": [
        "%ls\n",
        "df = spark.read.csv(\"new_retail_data.csv\")"
      ],
      "metadata": {
        "colab": {
          "base_uri": "https://localhost:8080/"
        },
        "id": "bQkuI6gVAfdF",
        "outputId": "b9cc7046-b6ba-4321-d5b5-b0e83c0d8edf"
      },
      "execution_count": 9,
      "outputs": [
        {
          "output_type": "stream",
          "name": "stdout",
          "text": [
            "new_retail_data.csv  PySpark_Introduction.ipynb\n"
          ]
        }
      ]
    },
    {
      "cell_type": "code",
      "source": [
        "df.show(10)"
      ],
      "metadata": {
        "colab": {
          "base_uri": "https://localhost:8080/"
        },
        "id": "JairNrrJA5PB",
        "outputId": "0bebbe90-c0f2-4bdd-c80a-393405f87a69"
      },
      "execution_count": 10,
      "outputs": [
        {
          "output_type": "stream",
          "name": "stdout",
          "text": [
            "+--------------+-----------+-------------------+-------------------+------------+--------------------+----------+---------------+-------+---------+----+------+------+----------------+----------+------+---------+--------+---------------+-----------+------------+----------------+-------------+------------+---------+---------------+--------------+------------+-------+-----------------+\n",
            "|           _c0|        _c1|                _c2|                _c3|         _c4|                 _c5|       _c6|            _c7|    _c8|      _c9|_c10|  _c11|  _c12|            _c13|      _c14|  _c15|     _c16|    _c17|           _c18|       _c19|        _c20|            _c21|         _c22|        _c23|     _c24|           _c25|          _c26|        _c27|   _c28|             _c29|\n",
            "+--------------+-----------+-------------------+-------------------+------------+--------------------+----------+---------------+-------+---------+----+------+------+----------------+----------+------+---------+--------+---------------+-----------+------------+----------------+-------------+------------+---------+---------------+--------------+------------+-------+-----------------+\n",
            "|Transaction_ID|Customer_ID|               Name|              Email|       Phone|             Address|      City|          State|Zipcode|  Country| Age|Gender|Income|Customer_Segment|      Date|  Year|    Month|    Time|Total_Purchases|     Amount|Total_Amount|Product_Category|Product_Brand|Product_Type| Feedback|Shipping_Method|Payment_Method|Order_Status|Ratings|         products|\n",
            "|     8691788.0|    37249.0|Michelle Harrington|  Ebony39@gmail.com|1414786801.0|   3959 Amanda Burgs|  Dortmund|         Berlin|77985.0|  Germany|21.0|  Male|   Low|         Regular| 9/18/2023|2023.0|September|22:03:55|            3.0|108.0287567|   324.08627|        Clothing|         Nike|      Shorts|Excellent|       Same-Day|    Debit Card|     Shipped|    5.0|   Cycling shorts|\n",
            "|     2174773.0|    69749.0|        Kelsey Hill|   Mark36@gmail.com|6852899987.0|  82072 Dawn Centers|Nottingham|        England|99071.0|       UK|19.0|Female|   Low|         Premium|12/31/2023|2023.0| December| 8:42:04|            2.0|403.3539073| 806.7078147|     Electronics|      Samsung|      Tablet|Excellent|       Standard|   Credit Card|  Processing|    4.0|       Lenovo Tab|\n",
            "|     6679610.0|    30192.0|       Scott Jensen|  Shane85@gmail.com|8362160449.0|   4133 Young Canyon|   Geelong|New South Wales|75929.0|Australia|48.0|  Male|   Low|         Regular| 4/26/2023|2023.0|    April| 4:06:29|            3.0|354.4775997| 1063.432799|           Books|Penguin Books|  Children's|  Average|       Same-Day|   Credit Card|  Processing|    2.0| Sports equipment|\n",
            "|     7232460.0|    62101.0|      Joseph Miller|   Mary34@gmail.com|2776751724.0|8148 Thomas Creek...|  Edmonton|        Ontario|88420.0|   Canada|56.0|  Male|  High|         Premium|  5/8/2023|2023.0|      May|14:55:17|            7.0|352.4077173| 2466.854021|      Home Decor|   Home Depot|       Tools|Excellent|       Standard|        PayPal|  Processing|    4.0|    Utility knife|\n",
            "|     4983775.0|    27901.0|      Debra Coleman|Charles30@gmail.com|9098267635.0|5813 Lori Ports S...|   Bristol|        England|48704.0|       UK|22.0|  Male|   Low|         Premium| 1/10/2024|2024.0|  January|16:54:07|            2.0|124.2765245| 248.5530491|         Grocery|       Nestle|   Chocolate|      Bad|       Standard|          Cash|     Shipped|    1.0|Chocolate cookies|\n",
            "|     6095326.0|    41289.0|       Ryan Johnson|  Haley12@gmail.com|3292677006.0|532 Ashley Crest ...|  Brisbane|New South Wales|74430.0|Australia|58.0|Female|Medium|         Premium| 9/21/2023|2023.0|September|23:24:27|            4.0|296.2918059| 1185.167224|     Electronics|        Apple|      Tablet|     Good|        Express|        PayPal|     Pending|    4.0|       Lenovo Tab|\n",
            "|     5434096.0|    97285.0|         Erin Lewis| Arthur76@gmail.com|1578355423.0|600 Brian Prairie...| Kitchener|        Ontario|47545.0|   Canada|29.0|Female|   Low|             New| 6/26/2023|2023.0|     June|13:35:51|            2.0|315.0576476| 630.1152951|     Electronics|      Samsung|  Television|      Bad|       Standard|          Cash|  Processing|    1.0|          QLED TV|\n",
            "|     2344675.0|    26603.0|      Angela Fields|  Tanya94@gmail.com|3668096144.0|     237 Young Curve|    Munich|         Berlin|86862.0|  Germany|29.0|  Male|Medium|         Premium| 3/24/2023|2023.0|    March|10:12:56|            1.0|46.58807038| 46.58807038|        Clothing|         Zara|       Shirt|      Bad|       Same-Day|          Cash|  Processing|    1.0|      Dress shirt|\n",
            "|     4155845.0|    80175.0|        Diane Clark| Martin39@gmail.com|6219779557.0|8823 Mariah Heigh...|Wollongong|New South Wales|39820.0|Australia|46.0|  Male|Medium|             New|  1/6/2024|2024.0|  January|14:38:26|            8.0|328.8393017| 2630.714413|         Grocery|       Nestle|   Chocolate|      Bad|       Same-Day|          Cash|   Delivered|    1.0|   Dark chocolate|\n",
            "+--------------+-----------+-------------------+-------------------+------------+--------------------+----------+---------------+-------+---------+----+------+------+----------------+----------+------+---------+--------+---------------+-----------+------------+----------------+-------------+------------+---------+---------------+--------------+------------+-------+-----------------+\n",
            "only showing top 10 rows\n",
            "\n"
          ]
        }
      ]
    },
    {
      "cell_type": "markdown",
      "source": [
        "#5: Base exploration of the data\n",
        "\n",
        "Basic exploration of the data, some ploting, means etc..."
      ],
      "metadata": {
        "id": "kNKhAg54BJvs"
      }
    },
    {
      "cell_type": "markdown",
      "source": [
        "##5.1: Use the PySpark/Spark API"
      ],
      "metadata": {
        "id": "BcVE6UP9BRWD"
      }
    },
    {
      "cell_type": "code",
      "source": [],
      "metadata": {
        "id": "Vyevx06qBXDR"
      },
      "execution_count": null,
      "outputs": []
    }
  ]
}